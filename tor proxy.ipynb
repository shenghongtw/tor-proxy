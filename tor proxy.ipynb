{
 "cells": [
  {
   "cell_type": "code",
   "execution_count": null,
   "id": "4f3f4c05",
   "metadata": {},
   "outputs": [],
   "source": [
    "from stem import Signal\n",
    "from stem.control import Controller\n",
    "from selenium import webdriver\n",
    "from selenium.webdriver.chrome.options import Options\n",
    "\n",
    "# 透過tor controller切換Ip\n",
    "def switchIP():\n",
    "    with Controller.from_port(port = 9151) as controller:\n",
    "        controller.authenticate()\n",
    "        controller.signal(Signal.NEWNYM)\n",
    "\n",
    "# 獲取有proxy ip的chrome driver\n",
    "def get_browser(PROXY = None):\n",
    "    chrome_options = webdriver.ChromeOptions()\n",
    "    if PROXY != None:\n",
    "         \n",
    "        chrome_options.add_argument('--proxy-server=SOCKS5://{0}'.format(PROXY)) # 代理\n",
    "       \n",
    "            \n",
    "    return webdriver.Chrome(options=chrome_options)\n"
   ]
  }
 ],
 "metadata": {
  "kernelspec": {
   "display_name": "tensorflow(python3.8)",
   "language": "python",
   "name": "tensorflow"
  },
  "language_info": {
   "codemirror_mode": {
    "name": "ipython",
    "version": 3
   },
   "file_extension": ".py",
   "mimetype": "text/x-python",
   "name": "python",
   "nbconvert_exporter": "python",
   "pygments_lexer": "ipython3",
   "version": "3.8.11"
  }
 },
 "nbformat": 4,
 "nbformat_minor": 5
}
